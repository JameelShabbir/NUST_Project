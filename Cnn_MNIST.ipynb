{
  "nbformat": 4,
  "nbformat_minor": 0,
  "metadata": {
    "colab": {
      "provenance": []
    },
    "kernelspec": {
      "name": "python3",
      "display_name": "Python 3"
    },
    "language_info": {
      "name": "python"
    }
  },
  "cells": [
    {
      "cell_type": "code",
      "execution_count": 5,
      "metadata": {
        "id": "usOvQuTQSxXJ"
      },
      "outputs": [],
      "source": [
        "import numpy as np\n",
        "import pandas as pd\n",
        "from numpy import unique, argmax\n",
        "from tensorflow.keras.datasets.mnist import load_data\n",
        "from tensorflow.keras import Sequential\n",
        "from tensorflow.keras.layers import Conv2D\n",
        "from tensorflow.keras.layers import Dense\n",
        "from tensorflow.keras.layers import Flatten\n",
        "from tensorflow.keras.layers import Dropout\n",
        "from tensorflow.keras.utils import plot_model\n",
        "import matplotlib.pyplot as plt\n",
        "from tensorflow.keras.datasets import mnist\n"
      ]
    },
    {
      "cell_type": "code",
      "source": [
        "(train_x, train_y), (test_x, test_y) = mnist.load_data()\n"
      ],
      "metadata": {
        "colab": {
          "base_uri": "https://localhost:8080/"
        },
        "id": "vdwHNS6JTC1c",
        "outputId": "8560bc79-fbb5-4a13-deeb-168f5b026347"
      },
      "execution_count": 4,
      "outputs": [
        {
          "output_type": "stream",
          "name": "stdout",
          "text": [
            "Downloading data from https://storage.googleapis.com/tensorflow/tf-keras-datasets/mnist.npz\n",
            "11490434/11490434 [==============================] - 0s 0us/step\n"
          ]
        }
      ]
    },
    {
      "cell_type": "code",
      "source": [
        "#printing the shapes\n",
        "print(train_x.shape, train_y.shape)\n",
        "print(test_x.shape , test_y.shape)"
      ],
      "metadata": {
        "colab": {
          "base_uri": "https://localhost:8080/"
        },
        "id": "2BYhDCkqTCu-",
        "outputId": "0f80704b-d943-4d96-959b-e9e93735786b"
      },
      "execution_count": 6,
      "outputs": [
        {
          "output_type": "stream",
          "name": "stdout",
          "text": [
            "(60000, 28, 28) (60000,)\n",
            "(10000, 28, 28) (10000,)\n"
          ]
        }
      ]
    },
    {
      "cell_type": "code",
      "source": [
        "#normalizing the pixel values of images\n",
        "train_x = train_x.astype('float32')/255.0\n",
        "test_x = test_x.astype('float32')/255.0\n"
      ],
      "metadata": {
        "id": "b2VSRM5eTCqg"
      },
      "execution_count": 7,
      "outputs": []
    },
    {
      "cell_type": "code",
      "source": [
        "#plotting images of dataset\n",
        "fig = plt.figure(figsize = (20,5))\n",
        "for i in range(20):\n",
        " ax= fig.add_subplot(2, 10, i+1, xticks=[], yticks=[])\n",
        " ax.imshow(np.squeeze(train_x[i]), cmap='gray')\n",
        " ax.set_title(train_y[i])\n"
      ],
      "metadata": {
        "colab": {
          "base_uri": "https://localhost:8080/",
          "height": 378
        },
        "id": "8cQ12a5aTCio",
        "outputId": "5c233c58-746b-4d33-97b6-bd26db97a9fe"
      },
      "execution_count": 8,
      "outputs": [
        {
          "output_type": "display_data",
          "data": {
            "text/plain": [
              "<Figure size 2000x500 with 20 Axes>"
            ],
            "image/png": "[encoded data removed]"
          },
          "metadata": {}
        }
      ]
    },
    {
      "cell_type": "code",
      "source": [
        "shape = train_x.shape[1:]\n",
        "shape"
      ],
      "metadata": {
        "colab": {
          "base_uri": "https://localhost:8080/"
        },
        "id": "3ugKVfv7TCFE",
        "outputId": "c192e6ab-7b31-43cd-890f-a1c3c5f37c3f"
      },
      "execution_count": 9,
      "outputs": [
        {
          "output_type": "execute_result",
          "data": {
            "text/plain": [
              "(28, 28)"
            ]
          },
          "metadata": {},
          "execution_count": 9
        }
      ]
    },
    {
      "cell_type": "code",
      "source": [
        "#CNN Model\n",
        "from tensorflow.keras.layers import MaxPooling2D as MaxPool2D\n",
        "model = Sequential()\n",
        "#adding convolutional layer\n",
        "model.add(Conv2D(32, (3,3), activation='relu', input_shape=(28, 28, 1)))\n",
        "model.add(MaxPool2D((2,2)))\n",
        "model.add(Conv2D(48, (3,3), activation='relu'))\n",
        "model.add(MaxPool2D((2,2)))\n"
      ],
      "metadata": {
        "id": "NpbTT4laTUfw"
      },
      "execution_count": 10,
      "outputs": []
    },
    {
      "cell_type": "code",
      "source": [
        "model.add(Dropout(0.5))\n",
        "model.add(Flatten())\n",
        "model.add(Dense(500, activation='relu'))\n",
        "model.add(Dense(10, activation='softmax'))\n"
      ],
      "metadata": {
        "id": "SvdClVwXTUcV"
      },
      "execution_count": 11,
      "outputs": []
    },
    {
      "cell_type": "code",
      "source": [
        "model.summary()\n"
      ],
      "metadata": {
        "colab": {
          "base_uri": "https://localhost:8080/"
        },
        "id": "acDrLlIhTUaZ",
        "outputId": "d235b8f3-63ba-4d53-94a1-8ec6e43257de"
      },
      "execution_count": 12,
      "outputs": [
        {
          "output_type": "stream",
          "name": "stdout",
          "text": [
            "Model: \"sequential\"\n",
            "_________________________________________________________________\n",
            " Layer (type)                Output Shape              Param #   \n",
            "=================================================================\n",
            " conv2d (Conv2D)             (None, 26, 26, 32)        320       \n",
            "                                                                 \n",
            " max_pooling2d (MaxPooling2D  (None, 13, 13, 32)       0         \n",
            " )                                                               \n",
            "                                                                 \n",
            " conv2d_1 (Conv2D)           (None, 11, 11, 48)        13872     \n",
            "                                                                 \n",
            " max_pooling2d_1 (MaxPooling  (None, 5, 5, 48)         0         \n",
            " 2D)                                                             \n",
            "                                                                 \n",
            " dropout (Dropout)           (None, 5, 5, 48)          0         \n",
            "                                                                 \n",
            " flatten (Flatten)           (None, 1200)              0         \n",
            "                                                                 \n",
            " dense (Dense)               (None, 500)               600500    \n",
            "                                                                 \n",
            " dense_1 (Dense)             (None, 10)                5010      \n",
            "                                                                 \n",
            "=================================================================\n",
            "Total params: 619,702\n",
            "Trainable params: 619,702\n",
            "Non-trainable params: 0\n",
            "_________________________________________________________________\n"
          ]
        }
      ]
    },
    {
      "cell_type": "code",
      "source": [
        "#compiling model\n",
        "model.compile(optimizer='adam', loss = 'sparse_categorical_crossentropy',metrics= ['accuracy'] )\n",
        "x=model.fit(train_x, train_y, epochs=10, batch_size = 128, verbose= 2 , validation_split = 0.1)"
      ],
      "metadata": {
        "id": "jpGcqW6gbTFL"
      },
      "execution_count": null,
      "outputs": []
    },
    {
      "cell_type": "code",
      "source": [
        "loss, accuracy= model.evaluate(test_x, test_y, verbose = 0)\n",
        "print(f'Accuracy: {accuracy*100}')\n"
      ],
      "metadata": {
        "id": "BwAou8PkbXyV"
      },
      "execution_count": null,
      "outputs": []
    },
    {
      "cell_type": "code",
      "source": [
        "model.save(r'final_model.h5')"
      ],
      "metadata": {
        "id": "T4Hz2TB1bb-Z"
      },
      "execution_count": null,
      "outputs": []
    },
    {
      "cell_type": "code",
      "source": [
        "# make a prediction for a new image.\n",
        "from numpy import argmax\n",
        "from keras.preprocessing.image import load_img\n",
        "from keras.preprocessing.image import img_to_array\n",
        "from keras.models import load_model\n",
        "import matplotlib.pyplot as plt\n",
        "# load and prepare the image\n",
        "def load_image(filename):\n",
        "# load the image\n",
        "img = load_img(filename, grayscale=True, target_size=(28, 28))\n",
        "plt.figure(figsize=(5,5))\n",
        "plt.imshow(img,cmap='gray')\n",
        "plt.show()\n",
        "# convert to array\n",
        "img = img_to_array(img)\n",
        "# reshape into a single sample with 1 channel\n",
        "img = img.reshape(1, 28, 28, 1)\n",
        "# prepare pixel data\n",
        "img = img.astype('float32')\n",
        "img = img / 255.0\n",
        "return img\n",
        "# load an image and predict the class\n",
        "def run_example():\n",
        "# load the image\n",
        "img = load_image(r'C:\\Users\\92341\\Desktop\\7.png')\n",
        "# load model\n",
        "model = load_model(r'C:\\Users\\92341\\Desktop\\DipLab\\final_model.h5')\n",
        "# predict the class\n",
        "predict_value = model.predict(img)\n",
        "digit = argmax(predict_value)\n",
        "print('Predicted',digit)\n",
        "# entry point, run the example\n",
        "run_example()\n"
      ],
      "metadata": {
        "id": "7BKwRMJFTUPr"
      },
      "execution_count": null,
      "outputs": []
    },
    {
      "cell_type": "code",
      "source": [],
      "metadata": {
        "id": "sCZP-sj3UFA9"
      },
      "execution_count": null,
      "outputs": []
    },
    {
      "cell_type": "code",
      "source": [],
      "metadata": {
        "id": "Y1ZwUPq8UExt"
      },
      "execution_count": null,
      "outputs": []
    },
    {
      "cell_type": "code",
      "source": [],
      "metadata": {
        "id": "z1vGHtJjUEnm"
      },
      "execution_count": null,
      "outputs": []
    },
    {
      "cell_type": "code",
      "source": [],
      "metadata": {
        "id": "MZewZjNaUEfq"
      },
      "execution_count": null,
      "outputs": []
    },
    {
      "cell_type": "code",
      "source": [],
      "metadata": {
        "id": "0Y0rQOGjUEYq"
      },
      "execution_count": null,
      "outputs": []
    },
    {
      "cell_type": "code",
      "source": [],
      "metadata": {
        "id": "xpBv_8BLUEP6"
      },
      "execution_count": null,
      "outputs": []
    },
    {
      "cell_type": "code",
      "source": [],
      "metadata": {
        "id": "KBFmu4unUEH3"
      },
      "execution_count": null,
      "outputs": []
    }
  ]
}